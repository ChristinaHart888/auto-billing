{
 "cells": [
  {
   "cell_type": "code",
   "execution_count": 1,
   "id": "ec317a67-b582-44ed-a249-7afdb94b6d33",
   "metadata": {},
   "outputs": [],
   "source": [
    "def get_column_name(index):\n",
    "    alphabet = \"ABCDEFGHIJKLMNOPQRSTUVWXYZ\"\n",
    "    column_name = ''\n",
    "    while index >= 0:\n",
    "        column_name = alphabet[(index % len(alphabet))] + column_name\n",
    "        index = (index // len(alphabet) -1)\n",
    "    return column_name\n",
    "def get_column_index(name):\n",
    "    alphabet = \"ABCDEFGHIJKLMNOPQRSTUVWXYZ\"\n",
    "    length = len(name)\n",
    "    i = length\n",
    "    value = 0\n",
    "    for letter in name:\n",
    "        i = i - 1\n",
    "        value = value + (alphabet.index(letter) + 1) * pow(26, i)\n",
    "        \n",
    "    return value"
   ]
  },
  {
   "cell_type": "code",
   "execution_count": 2,
   "id": "c1aff349-53ac-4ff6-85de-37acc89e53e9",
   "metadata": {
    "scrolled": true
   },
   "outputs": [],
   "source": [
    "import pandas as pd\n",
    "import math\n",
    "from datetime import datetime\n",
    "from openpyxl import load_workbook\n",
    "from openpyxl.styles.fills import PatternFill\n",
    "from openpyxl.styles import colors\n",
    "# Read the file\n",
    "df = pd.read_excel('billing.xlsx', header=None)\n",
    "workbook = load_workbook('billing.xlsx')\n",
    "sheet = workbook.active\n",
    "column_list = []\n",
    "for i in range(df.shape[1]):\n",
    "    column_list.append(get_column_name(i))\n",
    "df.columns = column_list"
   ]
  },
  {
   "cell_type": "code",
   "execution_count": 3,
   "id": "571948f3-678b-4aa6-b7bf-87656f9ed105",
   "metadata": {},
   "outputs": [
    {
     "name": "stdout",
     "output_type": "stream",
     "text": [
      "Index(['A', 'B', 'C', 'D', 'E', 'F', 'G', 'H', 'I', 'J', 'K', 'L', 'M', 'N',\n",
      "       'O', 'P', 'Q', 'R', 'S', 'T', 'U', 'V', 'W', 'X', 'Y', 'Z', 'AA', 'AB',\n",
      "       'AC', 'AD', 'AE', 'AF', 'AG', 'AH', 'AI', 'AJ', 'AK', 'AL', 'AM', 'AN',\n",
      "       'AO', 'AP', 'AQ', 'AR', 'AS', 'AT', 'AU', 'AV', 'AW', 'AX', 'AY', 'AZ',\n",
      "       'BA', 'BB', 'BC', 'BD', 'BE', 'BF', 'BG', 'BH', 'BI', 'BJ', 'BK', 'BL',\n",
      "       'BM', 'BN', 'BO', 'BP', 'BQ', 'BR'],\n",
      "      dtype='object')\n"
     ]
    }
   ],
   "source": [
    "print(df.columns)"
   ]
  },
  {
   "cell_type": "code",
   "execution_count": 4,
   "id": "5fbdf38a-403b-44d3-8a76-f617e46a3996",
   "metadata": {
    "scrolled": true
   },
   "outputs": [
    {
     "name": "stdout",
     "output_type": "stream",
     "text": [
      "Number of students: 97\n"
     ]
    }
   ],
   "source": [
    "# Count the number of students\n",
    "\n",
    "total_students = df['A'].nunique()\n",
    "\n",
    "print(f\"Number of students: {total_students}\")"
   ]
  },
  {
   "cell_type": "code",
   "execution_count": 5,
   "id": "180be656-6f5d-446c-a9cb-16b69f0b3c71",
   "metadata": {},
   "outputs": [],
   "source": [
    "# Set billable days\n",
    "date_col = ['AD', 'AF']\n",
    "\n",
    "# Set targeted timing\n",
    "time_format = '%H:%M'\n",
    "early_target = datetime.strptime('10:30', time_format)\n",
    "late_target = datetime.strptime('14:30', time_format)"
   ]
  },
  {
   "cell_type": "code",
   "execution_count": 8,
   "id": "828fa889-cf1b-4f38-823f-61b69c16800a",
   "metadata": {},
   "outputs": [],
   "source": [
    "def highlight_cell(r, c):\n",
    "    #print(f'row: {r}, col {c}')\n",
    "    cell = sheet.cell(row=(r + 1), column=(c + 1))\n",
    "    highlight = PatternFill(fill_type=\"solid\", fgColor='FFFF00')\n",
    "    cell.fill = highlight"
   ]
  },
  {
   "cell_type": "code",
   "execution_count": 9,
   "id": "549f9f1f-d417-4e6b-ab71-26d6130c6060",
   "metadata": {
    "scrolled": true
   },
   "outputs": [
    {
     "name": "stdout",
     "output_type": "stream",
     "text": [
      "Name: Ethan Loo En Yu, Date: 14,Aug, Sign in: 08:48:00, Sign out: 17:01:00,\n",
      "Name: Heidi Soon Zi Ching, Date: 13,Aug, Sign in: 09:11:00, Sign out: 16:18:00,\n",
      "Name: Heidi Soon Zi Ching, Date: 14,Aug, Sign in: 09:17:00, Sign out: 16:56:00,\n",
      "Name: Jenn Noorhisham, Date: 13,Aug, Sign in: 08:48:00, Sign out: 17:40:00,\n",
      "Name: Jenn Noorhisham, Date: 14,Aug, Sign in: 08:51:00, Sign out: 17:07:00,\n",
      "Name: Kee Hui Jing, Date: 13,Aug, Sign in: 08:31:00, Sign out: 16:41:00,\n",
      "Name: Kee Hui Jing, Date: 14,Aug, Sign in: 08:36:00, Sign out: 16:44:00,\n",
      "Name: Yu Mengke, Date: 13,Aug, Sign in: 10:22:00, Sign out: 17:03:00,\n",
      "Name: Yu Mengke, Date: 14,Aug, Sign in: 10:22:00, Sign out: 17:31:00,\n",
      "Name: Alyssa Tay Yuhan, Date: 13,Aug, Sign in: 07:23:00, Sign out: 18:39:00,\n",
      "Name: Alyssa Tay Yuhan, Date: 14,Aug, Sign in: 08:01:00, Sign out: 17:45:00,\n",
      "Name: Leow Zheyi, Date: 13,Aug, Sign in: 07:26:00, Sign out: 19:00:00,\n",
      "Name: Leow Zheyi, Date: 14,Aug, Sign in: 07:31:00, Sign out: 19:02:00,\n",
      "Name: Lock Yu’en Jerielle, Date: 13,Aug, Sign in: 08:34:00, Sign out: 17:45:00,\n",
      "Name: Lock Yu’en Jerielle, Date: 14,Aug, Sign in: 08:27:00, Sign out: 17:55:00,\n",
      "Name: Olivia Phang Yu Tong, Date: 13,Aug, Sign in: 08:34:00, Sign out: 17:23:00,\n",
      "Name: Olivia Phang Yu Tong, Date: 14,Aug, Sign in: 08:40:00, Sign out: 17:36:00,\n",
      "Name: Qu Weining, Date: 13,Aug, Sign in: 08:36:00, Sign out: 19:40:00,\n",
      "Name: Quek Rui Heng Jonas, Date: 13,Aug, Sign in: 08:48:00, Sign out: 17:49:00,\n",
      "Name: Elliot Adam, Date: 13,Aug, Sign in: 08:18:00, Sign out: 15:13:00,\n",
      "Name: Elliot Adam, Date: 14,Aug, Sign in: 08:00:00, Sign out: 14:50:00,\n",
      "Name: Eva Binte Hendra Indragunawan, Date: 14,Aug, Sign in: 09:00:00, Sign out: 17:28:00,\n",
      "Name: Lim Si Han, Date: 13,Aug, Sign in: 09:25:00, Sign out: 17:35:00,\n",
      "Name: Lim Si Han, Date: 14,Aug, Sign in: 08:57:00, Sign out: 18:23:00,\n",
      "Name: Percy Wong Yu Herng, Date: 13,Aug, Sign in: 08:08:00, Sign out: 16:42:00,\n",
      "Name: Percy Wong Yu Herng, Date: 14,Aug, Sign in: 08:35:00, Sign out: 17:44:00,\n",
      "Name: Sofia Balbaligo, Date: 13,Aug, Sign in: 09:11:00, Sign out: 16:37:00,\n",
      "Name: Sofia Balbaligo, Date: 14,Aug, Sign in: 09:26:00, Sign out: 18:10:00,\n",
      "Name: Wok Kai Hao, Date: 14,Aug, Sign in: 10:24:00, Sign out: 17:46:00,\n",
      "Name: Yeo Si Yu, Date: 13,Aug, Sign in: 10:15:00, Sign out: 17:17:00,\n",
      "Name: Yeo Si Yu, Date: 14,Aug, Sign in: 08:51:00, Sign out: 16:07:00,\n",
      "Name: Andrei Ang Yi Kai, Date: 13,Aug, Sign in: 08:54:00, Sign out: 18:48:00,\n",
      "Name: Andrei Ang Yi Kai, Date: 14,Aug, Sign in: 08:48:00, Sign out: 18:41:00,\n",
      "Name: Benedict Lotus, Date: 13,Aug, Sign in: 07:36:00, Sign out: 16:55:00,\n",
      "Name: Darrel Ezekiel Goh, Date: 13,Aug, Sign in: 08:32:00, Sign out: 17:22:00,\n",
      "Name: Darrel Ezekiel Goh, Date: 14,Aug, Sign in: 08:41:00, Sign out: 18:37:00,\n",
      "Name: Declan Lim Zi Fei, Date: 13,Aug, Sign in: 07:20:00, Sign out: 17:47:00,\n",
      "Name: Declan Lim Zi Fei, Date: 14,Aug, Sign in: 07:45:00, Sign out: 17:39:00,\n",
      "Name: Kang Rui Xian, Date: 14,Aug, Sign in: 07:31:00, Sign out: 15:29:00,\n",
      "Name: Yu Xiuguang Lucas, Date: 13,Aug, Sign in: 09:16:00, Sign out: 17:36:00,\n",
      "Name: Yu Xiuguang Lucas, Date: 14,Aug, Sign in: 08:53:00, Sign out: 17:01:00,\n",
      "Name: Albee Yeoh Yu Qing, Date: 13,Aug, Sign in: 08:12:00, Sign out: 17:45:00,\n",
      "Name: Albee Yeoh Yu Qing, Date: 14,Aug, Sign in: 07:52:00, Sign out: 18:30:00,\n",
      "Name: Callie Chan Rui Xin, Date: 14,Aug, Sign in: 07:48:00, Sign out: 18:01:00,\n",
      "Name: Charlene Tan Yiting, Date: 13,Aug, Sign in: 07:40:00, Sign out: 18:00:00,\n",
      "Name: Charlene Tan Yiting, Date: 14,Aug, Sign in: 07:44:00, Sign out: 18:35:00,\n",
      "Name: Christie-Ann Ng Jia Hui, Date: 13,Aug, Sign in: 07:44:00, Sign out: 17:36:00,\n",
      "Name: Estella Lim Xin Ying, Date: 13,Aug, Sign in: 07:20:00, Sign out: 16:37:00,\n",
      "Name: Estella Lim Xin Ying, Date: 14,Aug, Sign in: 07:44:00, Sign out: 17:49:00,\n",
      "Name: Hayden Cheng Zhuo Jun, Date: 13,Aug, Sign in: 07:38:00, Sign out: 17:17:00,\n",
      "Name: Hayden Cheng Zhuo Jun, Date: 14,Aug, Sign in: 07:44:00, Sign out: 17:45:00,\n",
      "Name: Kelsey Wong Yu Ze, Date: 13,Aug, Sign in: 08:08:00, Sign out: 16:42:00,\n",
      "Name: Kelsey Wong Yu Ze, Date: 14,Aug, Sign in: 08:35:00, Sign out: 17:45:00,\n",
      "Name: Lu Zilin, Date: 13,Aug, Sign in: 07:32:00, Sign out: 18:29:00,\n",
      "Name: Lu Zilin, Date: 14,Aug, Sign in: 07:45:00, Sign out: 18:20:00,\n",
      "Name: Victoria Phang Hui Xuen, Date: 13,Aug, Sign in: 08:34:00, Sign out: 17:23:00,\n",
      "Name: Victoria Phang Hui Xuen, Date: 14,Aug, Sign in: 08:40:00, Sign out: 17:36:00,\n",
      "Name: Yew Kar Lok, Date: 13,Aug, Sign in: 07:40:00, Sign out: 18:14:00,\n",
      "Name: Yew Kar Lok, Date: 14,Aug, Sign in: 07:44:00, Sign out: 18:56:00,\n",
      "Name: Ariel Loo En Ya, Date: 14,Aug, Sign in: 08:55:00, Sign out: 16:59:00,\n",
      "Name: Chan Kwong Wai, Date: 13,Aug, Sign in: 08:49:00, Sign out: 18:30:00,\n",
      "Name: Chan Kwong Wai, Date: 14,Aug, Sign in: 08:50:00, Sign out: 18:45:00,\n",
      "Name: Jerry Wu Jiarui, Date: 13,Aug, Sign in: 08:29:00, Sign out: 17:34:00,\n",
      "Name: Liam Handojo, Date: 13,Aug, Sign in: 08:04:00, Sign out: 17:34:00,\n",
      "Name: Liam Handojo, Date: 14,Aug, Sign in: 08:08:00, Sign out: 17:31:00,\n",
      "Name: Lim Charliz CW, Date: 13,Aug, Sign in: 09:37:00, Sign out: 17:08:00,\n",
      "Name: Lim Charliz CW, Date: 14,Aug, Sign in: 09:24:00, Sign out: 17:12:00,\n",
      "Name: Neo Ray-Le, Date: 13,Aug, Sign in: 08:48:00, Sign out: 18:06:00,\n",
      "Name: Neo Ray-Le, Date: 14,Aug, Sign in: 10:17:00, Sign out: 18:00:00,\n",
      "Name: Patricia Gracelyn Goh, Date: 13,Aug, Sign in: 08:29:00, Sign out: 17:36:00,\n",
      "Name: Patricia Gracelyn Goh, Date: 14,Aug, Sign in: 08:42:00, Sign out: 18:38:00,\n",
      "Name: Ayden Wong Jun Kai, Date: 13,Aug, Sign in: 09:01:00, Sign out: 18:41:00,\n",
      "Name: Ayden Wong Jun Kai, Date: 14,Aug, Sign in: 08:42:00, Sign out: 18:53:00,\n",
      "Name: Branden Chan Yau Ka, Date: 14,Aug, Sign in: 07:50:00, Sign out: 17:48:00,\n",
      "Name: Christian Ng Jia Rong, Date: 13,Aug, Sign in: 07:42:00, Sign out: 17:33:00,\n",
      "Name: Ethan Varatharaj, Date: 14,Aug, Sign in: 07:32:00, Sign out: 18:44:00,\n",
      "Name: Everett Ng Zhi Tian, Date: 14,Aug, Sign in: 08:45:00, Sign out: 17:31:00,\n",
      "Name: Joash Lock Yufeng, Date: 13,Aug, Sign in: 08:31:00, Sign out: 17:32:00,\n",
      "Name: Joash Lock Yufeng, Date: 14,Aug, Sign in: 08:25:00, Sign out: 17:49:00,\n",
      "Name: Matthew Cahyadi, Date: 13,Aug, Sign in: 08:40:00, Sign out: 18:06:00,\n",
      "Name: Matthew Cahyadi, Date: 14,Aug, Sign in: 08:32:00, Sign out: 17:55:00,\n",
      "Name: Ryley Sia Bing Chen, Date: 13,Aug, Sign in: 08:06:00, Sign out: 19:00:00,\n",
      "Name: Ryley Sia Bing Chen, Date: 14,Aug, Sign in: 08:17:00, Sign out: 16:33:00,\n",
      "Name: Ejaz Bin Hendra Indragunawan, Date: 14,Aug, Sign in: 09:04:00, Sign out: 17:29:00,\n",
      "Name: Jepsen Teh You Wei, Date: 13,Aug, Sign in: 08:00:00, Sign out: 17:47:00,\n",
      "Name: Jepsen Teh You Wei, Date: 14,Aug, Sign in: 08:08:00, Sign out: 18:06:00,\n",
      "Name: Tran Vo Gia Hung, Andy, Date: 13,Aug, Sign in: 08:12:00, Sign out: 18:21:00,\n",
      "Name: Tran Vo Gia Hung, Andy, Date: 14,Aug, Sign in: 08:10:00, Sign out: 18:23:00,\n",
      "Name: Emma Ling Zi En, Date: 13,Aug, Sign in: 08:13:00, Sign out: 18:06:00,\n"
     ]
    }
   ],
   "source": [
    "# Loop through each student\n",
    "student_list = df.groupby(df['A'])\n",
    "for index, student in student_list:\n",
    "    name = student.iloc[0]['B']\n",
    "    sign_in_row = student.index.min()\n",
    "    sign_out_row = sign_in_row + 1\n",
    "    for column in date_col:\n",
    "        if pd.isna(df.at[sign_in_row, column]) == False:\n",
    "            sign_in_time = datetime.strptime(str(df.at[sign_in_row, column]), time_format)\n",
    "            sign_out_time = datetime.strptime(str(df.at[sign_out_row, column]), time_format)\n",
    "            #print(f\"Name: {name}, Date: {df.at[8, column]}, index: {int(index)}, Sign in: {sign_in_time}, Sign out: {sign_out_time},\")\n",
    "            if sign_in_time < early_target and sign_out_time > late_target: \n",
    "                highlight_cell(sign_in_row, get_column_index(column))\n",
    "                highlight_cell(sign_out_row, get_column_index(column))\n",
    "                print(f\"Name: {name}, Date: {df.at[8, column]}, Sign in: {sign_in_time.time()}, Sign out: {sign_out_time.time()},\")\n",
    "workbook.save('test_highlight.xlsx')"
   ]
  },
  {
   "cell_type": "code",
   "execution_count": null,
   "id": "282d2d5e-6e0a-44af-ade0-1faf87ca4c04",
   "metadata": {},
   "outputs": [],
   "source": []
  },
  {
   "cell_type": "code",
   "execution_count": null,
   "id": "e378fdbb-f4f3-4365-8a8d-8495d13c65fb",
   "metadata": {},
   "outputs": [],
   "source": []
  }
 ],
 "metadata": {
  "kernelspec": {
   "display_name": "Python 3 (ipykernel)",
   "language": "python",
   "name": "python3"
  },
  "language_info": {
   "codemirror_mode": {
    "name": "ipython",
    "version": 3
   },
   "file_extension": ".py",
   "mimetype": "text/x-python",
   "name": "python",
   "nbconvert_exporter": "python",
   "pygments_lexer": "ipython3",
   "version": "3.12.5"
  }
 },
 "nbformat": 4,
 "nbformat_minor": 5
}

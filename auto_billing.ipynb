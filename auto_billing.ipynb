{
 "cells": [
  {
   "cell_type": "code",
   "execution_count": 3,
   "id": "265b6ebe",
   "metadata": {},
   "outputs": [],
   "source": [
    "import pandas as pd\n",
    "from datetime import datetime\n",
    "from openpyxl import load_workbook\n",
    "from openpyxl.styles.fills import PatternFill"
   ]
  },
  {
   "cell_type": "code",
   "execution_count": 1,
   "id": "ec317a67-b582-44ed-a249-7afdb94b6d33",
   "metadata": {},
   "outputs": [],
   "source": [
    "# Customizable Variables\n",
    "\n",
    "spreadsheet_file_name = 'billing.xlsx'\n",
    "highlight_color = 'FFFF00'\n",
    "new_file_name = 'test_highlight.xlsx'\n",
    "\n",
    "# Customize billable days\n",
    "date_col = ['AD', 'AF']\n",
    "\n",
    "# Set targeted timing\n",
    "time_format = '%H:%M'\n",
    "early_time = '10:30'\n",
    "late_time = '14:30'"
   ]
  },
  {
   "cell_type": "code",
   "execution_count": null,
   "id": "77cf7df3",
   "metadata": {},
   "outputs": [],
   "source": [
    "# Functions\n",
    "def get_column_name(index):\n",
    "    alphabet = \"ABCDEFGHIJKLMNOPQRSTUVWXYZ\"\n",
    "    column_name = ''\n",
    "    while index >= 0:\n",
    "        column_name = alphabet[(index % len(alphabet))] + column_name\n",
    "        index = (index // len(alphabet) -1)\n",
    "    return column_name\n",
    "def get_column_index(name):\n",
    "    alphabet = \"ABCDEFGHIJKLMNOPQRSTUVWXYZ\"\n",
    "    length = len(name)\n",
    "    i = length\n",
    "    value = 0\n",
    "    for letter in name:\n",
    "        i = i - 1\n",
    "        value = value + (alphabet.index(letter) + 1) * pow(26, i)\n",
    "        \n",
    "    return value\n",
    "\n",
    "early_target = datetime.strptime(early_time, time_format)\n",
    "late_target = datetime.strptime(late_time, time_format)\n",
    "\n",
    "# Read the file\n",
    "df = pd.read_excel(spreadsheet_file_name, header=None)\n",
    "workbook = load_workbook(spreadsheet_file_name)\n",
    "sheet = workbook.active\n",
    "column_list = []\n",
    "for i in range(df.shape[1]):\n",
    "    column_list.append(get_column_name(i))\n",
    "df.columns = column_list"
   ]
  },
  {
   "cell_type": "code",
   "execution_count": 24,
   "id": "5fbdf38a-403b-44d3-8a76-f617e46a3996",
   "metadata": {
    "scrolled": true
   },
   "outputs": [
    {
     "name": "stdout",
     "output_type": "stream",
     "text": [
      "Number of students: 97\n"
     ]
    }
   ],
   "source": [
    "# Count the number of students\n",
    "\n",
    "total_students = df['A'].nunique()\n",
    "\n",
    "print(f\"Number of students: {total_students}\")"
   ]
  },
  {
   "cell_type": "code",
   "execution_count": 27,
   "id": "549f9f1f-d417-4e6b-ab71-26d6130c6060",
   "metadata": {
    "scrolled": true
   },
   "outputs": [],
   "source": [
    "\n",
    "def highlight_cell(r, c):\n",
    "    #print(f'row: {r}, col {c}')\n",
    "    cell = sheet.cell(row=(r + 1), column=c)\n",
    "    highlight = PatternFill(fill_type=\"solid\", fgColor='FFFF00')\n",
    "    cell.fill = highlight\n",
    "\n",
    "# Loop through each student\n",
    "student_list = df.groupby(df['A'])\n",
    "for index, student in student_list:\n",
    "    name = student.iloc[0]['B']\n",
    "    sign_in_row = student.index.min()\n",
    "    sign_out_row = sign_in_row + 1\n",
    "    for column in date_col:\n",
    "        if pd.isna(df.at[sign_in_row, column]) == False:\n",
    "            sign_in_time = datetime.strptime(str(df.at[sign_in_row, column]), time_format)\n",
    "            sign_out_time = datetime.strptime(str(df.at[sign_out_row, column]), time_format)\n",
    "            #print(f\"Name: {name}, Date: {df.at[8, column]}, index: {int(index)}, Sign in: {sign_in_time}, Sign out: {sign_out_time},\")\n",
    "            if sign_in_time < early_target and sign_out_time > late_target: \n",
    "                highlight_cell(sign_in_row, get_column_index(column))\n",
    "                highlight_cell(sign_out_row, get_column_index(column))\n",
    "                #Sprint(f\"Name: {name}, Date: {df.at[8, column]}, Sign in: {sign_in_time.time()}, Sign out: {sign_out_time.time()},\")\n",
    "workbook.save('test_highlight.xlsx')"
   ]
  },
  {
   "cell_type": "code",
   "execution_count": 31,
   "id": "282d2d5e-6e0a-44af-ade0-1faf87ca4c04",
   "metadata": {},
   "outputs": [
    {
     "name": "stdout",
     "output_type": "stream",
     "text": [
      "Ethan Loo En Yu has 1 days\n",
      "Heidi Soon Zi Ching has 2 days\n",
      "Jenn Noorhisham has 2 days\n",
      "Kee Hui Jing has 2 days\n",
      "Yu Mengke has 2 days\n",
      "Alyssa Tay Yuhan has 2 days\n",
      "Leow Zheyi has 2 days\n",
      "Lock Yu’en Jerielle has 2 days\n",
      "Olivia Phang Yu Tong has 2 days\n",
      "Qu Weining has 1 days\n",
      "Quek Rui Heng Jonas has 1 days\n",
      "Elliot Adam has 2 days\n",
      "Eva Binte Hendra Indragunawan has 1 days\n",
      "Lim Si Han has 2 days\n",
      "Percy Wong Yu Herng has 2 days\n",
      "Sofia Balbaligo has 2 days\n",
      "Wok Kai Hao has 1 days\n",
      "Yeo Si Yu has 2 days\n",
      "Andrei Ang Yi Kai has 2 days\n",
      "Benedict Lotus has 1 days\n",
      "Darrel Ezekiel Goh has 2 days\n",
      "Declan Lim Zi Fei has 2 days\n",
      "Kang Rui Xian has 1 days\n",
      "Yu Xiuguang Lucas has 2 days\n",
      "Albee Yeoh Yu Qing has 2 days\n",
      "Callie Chan Rui Xin has 1 days\n",
      "Charlene Tan Yiting has 2 days\n",
      "Christie-Ann Ng Jia Hui has 1 days\n",
      "Estella Lim Xin Ying has 2 days\n",
      "Hayden Cheng Zhuo Jun has 2 days\n",
      "Kelsey Wong Yu Ze has 2 days\n",
      "Lu Zilin has 2 days\n",
      "Victoria Phang Hui Xuen has 2 days\n",
      "Yew Kar Lok has 2 days\n",
      "Ariel Loo En Ya has 1 days\n",
      "Chan Kwong Wai has 2 days\n",
      "Jerry Wu Jiarui has 1 days\n",
      "Liam Handojo has 2 days\n",
      "Lim Charliz CW has 2 days\n",
      "Neo Ray-Le has 2 days\n",
      "Patricia Gracelyn Goh has 2 days\n",
      "Ayden Wong Jun Kai has 2 days\n",
      "Branden Chan Yau Ka has 1 days\n",
      "Christian Ng Jia Rong has 1 days\n",
      "Ethan Varatharaj has 1 days\n",
      "Everett Ng Zhi Tian has 1 days\n",
      "Joash Lock Yufeng has 2 days\n",
      "Matthew Cahyadi has 2 days\n",
      "Ryley Sia Bing Chen has 2 days\n",
      "Ejaz Bin Hendra Indragunawan has 1 days\n",
      "Jepsen Teh You Wei has 2 days\n",
      "Tran Vo Gia Hung, Andy has 2 days\n",
      "Emma Ling Zi En has 1 days\n"
     ]
    }
   ],
   "source": [
    "# Enter number of days\n",
    "num_days_col = 'BQ'\n",
    "for index, student in student_list:\n",
    "    student_name = student.iloc[0]['B']\n",
    "    count = 0\n",
    "    row = student.index.min() + 1\n",
    "    for col in date_col:\n",
    "        cell = sheet.cell(row=row, column=get_column_index(col))\n",
    "        if(cell.fill and cell.fill.patternType != None and cell.fill.fgColor.rgb == 'FFFF00'):\n",
    "            count += 1\n",
    "    if(count > 0):\n",
    "        cell = sheet.cell(row=row, column=get_column_index(num_days_col))\n",
    "        cell.value = count\n",
    "        print(f'{student_name} has {count} days')\n",
    "\n",
    "workbook.save('test_highlight.xlsx')"
   ]
  }
 ],
 "metadata": {
  "kernelspec": {
   "display_name": "Python 3 (ipykernel)",
   "language": "python",
   "name": "python3"
  },
  "language_info": {
   "codemirror_mode": {
    "name": "ipython",
    "version": 3
   },
   "file_extension": ".py",
   "mimetype": "text/x-python",
   "name": "python",
   "nbconvert_exporter": "python",
   "pygments_lexer": "ipython3",
   "version": "3.12.5"
  }
 },
 "nbformat": 4,
 "nbformat_minor": 5
}
